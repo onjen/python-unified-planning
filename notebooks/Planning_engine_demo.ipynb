{
 "cells": [
  {
   "cell_type": "markdown",
   "metadata": {
    "id": "-O38cYGqUwCJ"
   },
   "source": [
    "# Planning Engine Demo\n",
    "\n",
    "In this simple demo we will create a new planning engine for the \"Oneshot\" operation mode, we will register the new planner in the UP library and we will test it on a simple problem.\n",
    "\n",
    "## Setup the UP library\n",
    "We start by installing the library with PIP"
   ]
  },
  {
   "cell_type": "code",
   "execution_count": null,
   "metadata": {
    "id": "x-vPi8y9ce2y"
   },
   "outputs": [],
   "source": [
    "# begin of installation"
   ]
  },
  {
   "cell_type": "code",
   "execution_count": null,
   "metadata": {
    "id": "BoqALxJWdfl8"
   },
   "outputs": [],
   "source": [
    "!pip install --pre unified-planning"
   ]
  },
  {
   "cell_type": "code",
   "execution_count": null,
   "metadata": {
    "id": "v84O-Z0zcrrX"
   },
   "outputs": [],
   "source": [
    "# end of installation"
   ]
  },
  {
   "cell_type": "markdown",
   "metadata": {
    "id": "s_lwgr5pVEsC"
   },
   "source": [
    "## Define the planning engine\n",
    "A planning engine is a class inheriting from the `unified_planning.engines.Engine` class. The class shall inheriting also from at least one of the mixins class in `unified_planning.engines.mixins`. \n",
    "\n",
    "Custom options can be passed as keyword arguments in the constructor and each planning engine shall have a name specified by implementing the `name()` method.\n",
    "\n",
    "In order for the UP library to filter applicable engines, the `supports` method must be implemented. The method shall return true if the engine is capable of dealing with the given `ProblemKind`, that is a class storing information on the problem class (much like the `:requiremnets` specification of PDDL).\n",
    "\n",
    "In this example, we create a simple `OneshotPlanner` (see `unified_planning.engines.factory` for details and other operation modes). A `OneshotPlanner` is an instance of `unified_planning.engines.Engine` and `unified_planning.engines.mixins.OneshotPlannerMixin` that implements the `solve()` method returning a `up.engines.results.PlanGenerationResult` that contains plan in the form of an instance (or subclass) of `unified_planning.plan.Plan` if a plan could be found. In the code below, we implement a simple random walker that uses a `PlanValidator` (another operation mode) as a way to check if prefixes of plans are valid.\n"
   ]
  },
  {
   "cell_type": "code",
   "execution_count": null,
   "metadata": {
    "id": "01nDJbkoVZU1"
   },
   "outputs": [],
   "source": [
    "import random\n",
    "from typing import Optional, Callable, IO\n",
    "from unified_planning.engines.results import PlanGenerationResultStatus\n",
    "import unified_planning as up\n",
    "import unified_planning.engines as engines\n",
    "\n",
    "class MySolverImpl(engines.Engine,\n",
    "                   engines.mixins.OneshotPlannerMixin):\n",
    "    def __init__(self, **options):\n",
    "        # Read known user-options and store them for using in the `solve` method\n",
    "        self.max_tries = options.get('max_tries', None)\n",
    "        self.restart_probability = options.get('restart_probability', 0.00001)\n",
    "\n",
    "    @property\n",
    "    def name(self) -> str:\n",
    "        return \"YOLOPlanner\"\n",
    "\n",
    "    @staticmethod\n",
    "    def supported_kind():\n",
    "        # For this demo we limit ourselves to numeric planning.\n",
    "        # Other kinds of problems can be modeled in the UP library,\n",
    "        # see unified_planning.model.problem_kind.\n",
    "        supported_kind = ProblemKind()\n",
    "        supported_kind.set_typing('FLAT_TYPING')\n",
    "        supported_kind.set_typing('HIERARCHICAL_TYPING')\n",
    "        supported_kind.set_numbers('CONTINUOUS_NUMBERS')\n",
    "        supported_kind.set_numbers('DISCRETE_NUMBERS')\n",
    "        supported_kind.set_fluents_type('NUMERIC_FLUENTS')\n",
    "        supported_kind.set_fluents_type('OBJECT_FLUENTS')\n",
    "        supported_kind.set_conditions_kind('NEGATIVE_CONDITIONS')\n",
    "        supported_kind.set_conditions_kind('DISJUNCTIVE_CONDITIONS')\n",
    "        supported_kind.set_conditions_kind('EQUALITY')\n",
    "        supported_kind.set_conditions_kind('EXISTENTIAL_CONDITIONS')\n",
    "        supported_kind.set_conditions_kind('UNIVERSAL_CONDITIONS')\n",
    "        supported_kind.set_effects_kind('CONDITIONAL_EFFECTS')\n",
    "        supported_kind.set_effects_kind('INCREASE_EFFECTS')\n",
    "        supported_kind.set_effects_kind('DECREASE_EFFECTS')\n",
    "        return supported_kind\n",
    "\n",
    "    @staticmethod\n",
    "    def supports(problem_kind):\n",
    "        return problem_kind <= MySolverImpl.supported_kind()\n",
    "\n",
    "    def solve(self, problem: 'up.model.Problem',\n",
    "              callback: Optional[Callable[['up.engines.PlanGenerationResult'], None]] = None,\n",
    "              timeout: Optional[float] = None,\n",
    "              output_stream: Optional[IO[str]] = None) -> 'up.engines.results.PlanGenerationResult':\n",
    "        env = problem.env\n",
    "\n",
    "        # First we ground the problem\n",
    "        with env.factory.Compiler(problem_kind=problem.kind, compilation_kind=engines.CompilationKind.GROUNDING) as grounder:\n",
    "            grounding_result = grounder.compile(problem, engines.CompilationKind.GROUNDING)\n",
    "        grounded_problem = grounding_result.problem\n",
    "        \n",
    "        # We store the grounded actions in a list\n",
    "        actions = list(grounded_problem.instantaneous_actions)\n",
    "        \n",
    "        # The candidate plan, initially empty\n",
    "        plan = up.plans.SequentialPlan([])\n",
    "\n",
    "        # Ask for an instance of a PlanValidator by name\n",
    "        # (`sequential_plan_validator` is a python implementation of the \n",
    "        # PlanValidator operation mode offered by the UP library)\n",
    "        with env.factory.PlanValidator(name='sequential_plan_validator') as pv:\n",
    "            counter = 0\n",
    "            while True:\n",
    "                # With a certain probability, restart from scratch to avoid dead-ends\n",
    "                if random.random() < self.restart_probability:\n",
    "                    plan = up.plans.SequentialPlan()\n",
    "                else:\n",
    "                    # Select a random action\n",
    "                    a = random.choice(actions)\n",
    "                    # Create the relative action instance\n",
    "                    ai = up.plans.ActionInstance(a)\n",
    "                    # Append the action to the plan\n",
    "                    plan.actions.append(ai)\n",
    "\n",
    "                    # Check plan validity\n",
    "                    if pv.validate(grounded_problem, plan):\n",
    "                        # If the plan is valid, lift the action instances and\n",
    "                        # return the resulting plan\n",
    "                        resplan = plan.replace_action_instances(grounding_result.map_back_action_instance)\n",
    "                        return up.engines.PlanGenerationResult(PlanGenerationResultStatus.SOLVED_SATISFICING, resplan, self.name)\n",
    "                    else:\n",
    "                        # If the plan is invalid, check if the reason is action\n",
    "                        # applicability (as opposed to goal satisfaction)\n",
    "                        einfo = pv.get_last_error_info()\n",
    "                        if 'is not satisfied' in einfo:\n",
    "                            # If the plan is not executable, remove the last action\n",
    "                            plan.actions.pop()\n",
    "                    # Limit the number of tries, according to the user specification\n",
    "                    counter += 1\n",
    "                    if self.max_tries is not None and counter >= self.max_tries:\n",
    "                        return up.engines.PlanGenerationResult(PlanGenerationResultStatus.TIMEOUT, None, self.name)\n",
    "\n",
    "    def destroy(self):\n",
    "        pass"
   ]
  },
  {
   "cell_type": "markdown",
   "metadata": {
    "id": "-fFY3Q3mZo4P"
   },
   "source": [
    "Congratulations! You just created an integrated planning engine for the `Oneshot` operation mode! Of course, in a more realistic scenario, one would need to read the `problem` object and call an external engine or provide a more involved algorithm to provide the service, but this is already sufficient for testing out our simple engine."
   ]
  },
  {
   "cell_type": "markdown",
   "metadata": {
    "id": "1xp1How6aClP"
   },
   "source": [
    "## Registering the engine\n",
    "\n",
    "In order to use our `YOLOPlanner`, we need to register it among the set of planning engines available for the UP library as follows."
   ]
  },
  {
   "cell_type": "code",
   "execution_count": null,
   "metadata": {
    "id": "nY1d3eK7amBP"
   },
   "outputs": [],
   "source": [
    "env = up.environment.get_env()\n",
    "env.factory.add_engine('yoloplanner', __name__, 'MySolverImpl')"
   ]
  },
  {
   "cell_type": "markdown",
   "metadata": {
    "id": "kGhQuSjTanEM"
   },
   "source": [
    "Essentially, we just need to give a custom name (in our case `yoloplanner`) a module name (in thic case, `__name__` as we are in the same file as the Solver class) and finally the class name that we used to define our planning engine.\n",
    "\n",
    "Done! We are nor ready to test our planning engine!"
   ]
  },
  {
   "cell_type": "markdown",
   "metadata": {
    "id": "f5IWceEGa_YA"
   },
   "source": [
    "## Testing the engine\n",
    "\n",
    "We start by defining a simple problem in the UP syntax (alternatively we can use a parser or any other way to create a problem obejct)"
   ]
  },
  {
   "cell_type": "code",
   "execution_count": null,
   "metadata": {
    "id": "lEI3x-eTaA4s"
   },
   "outputs": [],
   "source": [
    "emgr = env.expression_manager\n",
    "\n",
    "Location = env.type_manager.UserType('Location')\n",
    "robot_at = up.model.Fluent('robot_at', env.type_manager.BoolType(), loc=Location)\n",
    "battery_charge = up.model.Fluent('battery_charge', env.type_manager.RealType(0, 100))\n",
    "move = up.model.InstantaneousAction('move', l_from=Location, l_to=Location)\n",
    "l_from = move.parameter('l_from')\n",
    "l_to = move.parameter('l_to')\n",
    "move.add_precondition(emgr.GE(battery_charge, 10))\n",
    "move.add_precondition(emgr.Not(emgr.Equals(l_from, l_to)))\n",
    "move.add_precondition(robot_at(l_from))\n",
    "move.add_precondition(emgr.Not(robot_at(l_to)))\n",
    "move.add_effect(robot_at(l_from), False)\n",
    "move.add_effect(robot_at(l_to), True)\n",
    "move.add_effect(battery_charge, emgr.Minus(battery_charge, 10))\n",
    "l1 = up.model.Object('l1', Location)\n",
    "l2 = up.model.Object('l2', Location)\n",
    "problem = up.model.Problem('robot')\n",
    "problem.add_fluent(robot_at)\n",
    "problem.add_fluent(battery_charge)\n",
    "problem.add_action(move)\n",
    "problem.add_object(l1)\n",
    "problem.add_object(l2)\n",
    "problem.set_initial_value(robot_at(l1), True)\n",
    "problem.set_initial_value(robot_at(l2), False)\n",
    "problem.set_initial_value(battery_charge, 100)\n",
    "problem.add_goal(robot_at(l2))"
   ]
  },
  {
   "cell_type": "markdown",
   "metadata": {
    "id": "p2L0ogodbLZw"
   },
   "source": [
    "Then, we invoke the operation mode as for any other planner in the UP library!"
   ]
  },
  {
   "cell_type": "code",
   "execution_count": null,
   "metadata": {
    "id": "UVWTD-akbQ-P"
   },
   "outputs": [],
   "source": [
    "with env.factory.OneshotPlanner(name='yoloplanner') as p:\n",
    "    result = p.solve(problem)\n",
    "    if result.status == PlanGenerationResultStatus.SOLVED_SATISFICING:\n",
    "        print(f'{p.name} found a valid plan!')\n",
    "        print(f'The plan is: {result.plan}')\n",
    "        print('\\n'.join(str(x) for x in result.plan.actions))\n",
    "    else:\n",
    "        print('No plan found!')"
   ]
  }
 ],
 "metadata": {
  "colab": {
   "collapsed_sections": [],
   "name": "Planning Engine Demo.ipynb",
   "provenance": []
  },
  "kernelspec": {
   "display_name": "Python 3",
   "language": "python",
   "name": "python3"
  },
  "language_info": {
   "codemirror_mode": {
    "name": "ipython",
    "version": 3
   },
   "file_extension": ".py",
   "mimetype": "text/x-python",
   "name": "python",
   "nbconvert_exporter": "python",
   "pygments_lexer": "ipython3",
   "version": "3.8.10"
  }
 },
 "nbformat": 4,
 "nbformat_minor": 1
}
