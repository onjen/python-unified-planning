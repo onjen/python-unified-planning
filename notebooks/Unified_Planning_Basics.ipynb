{
 "cells": [
  {
   "cell_type": "markdown",
   "metadata": {
    "id": "6nOTljC_mTMn"
   },
   "source": [
    "# Unified Planning Basic Demo\n",
    "\n",
    "This python notebook shows the basic usage of the unified planning library."
   ]
  },
  {
   "cell_type": "markdown",
   "metadata": {
    "id": "t8dCcpf7mivV"
   },
   "source": [
    "## Setup the library and the planners\n",
    "\n",
    "We start by downloading (from github) the unified planning library and the two planners we currently have at our disposal, namely `pyperplan` and `tamer`."
   ]
  },
  {
   "cell_type": "markdown",
   "metadata": {
    "id": "CwlvEzKrm1jT"
   },
   "source": [
    "First, we install unified_planning library and its dependencies from PyPi. Here, we use the `--pre` flag to use the latest development build."
   ]
  },
  {
   "cell_type": "code",
   "execution_count": null,
   "metadata": {
    "id": "GPKRUQgNZBo8"
   },
   "outputs": [],
   "source": [
    "# begin of installation"
   ]
  },
  {
   "cell_type": "code",
   "execution_count": null,
   "metadata": {
    "id": "BoqALxJWdfl8"
   },
   "outputs": [],
   "source": [
    "!pip install --pre unified-planning[pyperplan,tamer]"
   ]
  },
  {
   "cell_type": "markdown",
   "metadata": {
    "id": "iNHFHxQKnKIp"
   },
   "source": [
    "We are now ready to use the Unified-Planning library!"
   ]
  },
  {
   "cell_type": "code",
   "execution_count": null,
   "metadata": {
    "id": "uzkOkJbSdMTY"
   },
   "outputs": [],
   "source": [
    "# end of installation"
   ]
  },
  {
   "cell_type": "markdown",
   "metadata": {
    "id": "9dP5scv7nNJu"
   },
   "source": [
    "## Unified-Planning Demo\n",
    "\n",
    "### Basic imports\n",
    "The basic imports we need for this demo are abstracted in the `shortcuts` package. Moreover we import the PDDL input/output modules."
   ]
  },
  {
   "cell_type": "code",
   "execution_count": null,
   "metadata": {
    "id": "06rETnGAfQHg"
   },
   "outputs": [],
   "source": [
    "import unified_planning\n",
    "from unified_planning.shortcuts import *\n",
    "from unified_planning.io.pddl_writer import PDDLWriter\n",
    "from unified_planning.io.pddl_reader import PDDLReader"
   ]
  },
  {
   "cell_type": "markdown",
   "metadata": {
    "id": "i8J7rP0cnvXq"
   },
   "source": [
    "### Problem definition via code\n",
    "\n",
    "In this example, we will model a very simple robot navigation problem.\n",
    "\n",
    "#### Types\n",
    "\n",
    "The first thing to do is to introduce a \"UserType\" to model the concept of a location. It is possible to introduce as many types as needed; then, for each type we will define a set of objects of that type.  \n",
    "\n",
    "In addition to `UserType`s we have three built-in types: `Bool`, `Real` and `Integer`. "
   ]
  },
  {
   "cell_type": "code",
   "execution_count": null,
   "metadata": {
    "id": "huAy2IbVn0GZ"
   },
   "outputs": [],
   "source": [
    "Location = UserType('Location')"
   ]
  },
  {
   "cell_type": "markdown",
   "metadata": {
    "id": "fDukLfPPn20t"
   },
   "source": [
    "#### Fluents and constants\n",
    "\n",
    "The basic variables of a planning problem are called \"fluents\" and are quantities that can change over time. Fluents can have differen types, in this first example we will stick to classical \"predicates\" that are fluents of boolean type. Moreover, fluents can have parameters: effectively describing multiple variables.\n",
    "\n",
    "For example, a booean fluent `connected` with two parameters of type `Location` (that can be interpreted as `from` and `to`) can be used to model a graph of locations: there exists an edge between two locations `a` and `b` if `connected(a, b)` is true.\n",
    "\n",
    "In this example, `connected` will be a constant (i.e. it will never change in any execution), but another fluent `robot_at` will be used to model where the robot is: the robot is in locatiopn `l` if and only if `robot_at(l)` is true (we will ensure that exactly one such `l` exists, so that the robot is always in one single location)."
   ]
  },
  {
   "cell_type": "code",
   "execution_count": null,
   "metadata": {
    "id": "LZUgad7ZoA2p"
   },
   "outputs": [],
   "source": [
    "robot_at = unified_planning.model.Fluent('robot_at', BoolType(), l=Location)\n",
    "connected = unified_planning.model.Fluent('connected', BoolType(), l_from=Location, l_to=Location)"
   ]
  },
  {
   "cell_type": "markdown",
   "metadata": {
    "id": "rVzqSj3XoDPa"
   },
   "source": [
    "#### Actions\n",
    "\n",
    "Now we have the problem variables, but in order to describe the possible evolutions of a systems we need to describe how these variables can be changed and how they can evolve. We model this problem using classical, action-based planning, where a set of actions is used to characterize the possible transitions of the system from a state to another.\n",
    "\n",
    "An action is a transition that can be applied if a specified set of preconditions is satisfied and that prescribes a set of effects that change the value of some fluents. All the fluents that are subjected to the action effects are unchanged.\n",
    "\n",
    "We allow _lifted_ actions, that are action with parameters: the parameters can be used to specify preconditions or effects and the planner will select among the possible values of each parameters the ones to be used to characterize a specific action. \n",
    "\n",
    "In our example, we introduce an action called `move` that has two parameters of type `Location` indicating the current position of the robot `l_from` and the intended destination of the movement `l_to`. The `move(a, b)` action is applicable only when the robot is in position `a` (i.e. `robot_at(a)`) and if `a` and `b` are connected locations (i.e. `connected(a, b)`). As a result of applying the action `move(a, b)`, the robot is no longer in `a` and is instead in location `b`.\n",
    "\n",
    "In the unified_planning, we can create actions by instantiating the `unified_planning.InstantaneousAction` class; parameters are specified as keyword arguments to the constructor as shown below. Preconditions and effects are added by means of the `add_precondition` and `add_effect` methods. "
   ]
  },
  {
   "cell_type": "code",
   "execution_count": null,
   "metadata": {
    "id": "dRfrnEOfoHD8"
   },
   "outputs": [],
   "source": [
    "move = unified_planning.model.InstantaneousAction('move', l_from=Location, l_to=Location)\n",
    "l_from = move.parameter('l_from')\n",
    "l_to = move.parameter('l_to')\n",
    "move.add_precondition(connected(l_from, l_to))\n",
    "move.add_precondition(robot_at(l_from))\n",
    "move.add_effect(robot_at(l_from), False)\n",
    "move.add_effect(robot_at(l_to), True)\n",
    "print(move)"
   ]
  },
  {
   "cell_type": "markdown",
   "metadata": {
    "id": "iMuggWWioJ8K"
   },
   "source": [
    "#### Creating the problem\n",
    "\n",
    "The class that represents a planning problem is `unified_planning.Problem`, it contains the set of fluents, the actions, the objects, an intial value for all the fluents and a goal to be reached by the planner. We start by adding the entities we created so far. Note that entities are not bound to one problem, we can create the actions and fluents one and create multiple problems with them."
   ]
  },
  {
   "cell_type": "code",
   "execution_count": null,
   "metadata": {
    "id": "pgrJOj6ioMSC"
   },
   "outputs": [],
   "source": [
    "problem = unified_planning.model.Problem('robot')\n",
    "problem.add_fluent(robot_at, default_initial_value=False)\n",
    "problem.add_fluent(connected, default_initial_value=False)\n",
    "problem.add_action(move)"
   ]
  },
  {
   "cell_type": "markdown",
   "metadata": {
    "id": "35A3dp--oOOS"
   },
   "source": [
    "The set of objects is a set of `unified_planning.Object` instances, each represnting an element of the domain. In this example, we create `NLOC` (set to 10) locations named `l0` to `l9`. We can create the set of objects and add it to the problem as follows."
   ]
  },
  {
   "cell_type": "code",
   "execution_count": null,
   "metadata": {
    "id": "jbwJbJv8oQ9B"
   },
   "outputs": [],
   "source": [
    "NLOC = 10\n",
    "locations = [unified_planning.model.Object('l%s' % i, Location) for i in range(NLOC)]\n",
    "problem.add_objects(locations)"
   ]
  },
  {
   "cell_type": "markdown",
   "metadata": {
    "id": "L-MnST4ioTKo"
   },
   "source": [
    "Then, we need to specify the initial state. We used the `default_initial_value` specification when adding the fluents, so it suffices to indicate the fluents that are initially true (this is called \"small-world assumption\". Without this specification, we would need to initialize all the possible instantiation of all the fluents).\n",
    "\n",
    "In this example, we connect location `li` with location `li+1`, creating a simple \"linear\" graph lof locations and we set the initial position of the robot in location `l0`."
   ]
  },
  {
   "cell_type": "code",
   "execution_count": null,
   "metadata": {
    "id": "t7jLGJ1xoVxq"
   },
   "outputs": [],
   "source": [
    "problem.set_initial_value(robot_at(locations[0]), True)\n",
    "for i in range(NLOC - 1):\n",
    "    problem.set_initial_value(connected(locations[i], locations[i+1]), True)"
   ]
  },
  {
   "cell_type": "markdown",
   "metadata": {
    "id": "re1sYZHKoYx5"
   },
   "source": [
    "Finally, we set the goal of the problem. In this example, we set ourselves to reach location `l9`."
   ]
  },
  {
   "cell_type": "code",
   "execution_count": null,
   "metadata": {
    "id": "4zKqcGHlocdY"
   },
   "outputs": [],
   "source": [
    "problem.add_goal(robot_at(locations[-1]))\n",
    "print(problem)"
   ]
  },
  {
   "cell_type": "markdown",
   "metadata": {
    "id": "OTDDF5M1oezl"
   },
   "source": [
    "### Solving Planning Problems\n",
    "\n",
    "The most direct way to solve a planning problem is to select an available planning engine by name and use it to solve the problem. In the following we use `pyperplan` to solve the problem and print the plan."
   ]
  },
  {
   "cell_type": "code",
   "execution_count": null,
   "metadata": {
    "id": "8FTO4AoTojko"
   },
   "outputs": [],
   "source": [
    "with OneshotPlanner(name='pyperplan') as planner:\n",
    "    result = planner.solve(problem)\n",
    "    if result.status == up.engines.PlanGenerationResultStatus.SOLVED_SATISFICING:\n",
    "        print(\"Pyperplan returned: %s\" % result.plan)\n",
    "    else:\n",
    "        print(\"No plan found.\")"
   ]
  },
  {
   "cell_type": "markdown",
   "metadata": {
    "id": "Q-Pju4K2q_bM"
   },
   "source": [
    "The unified_planning can also automatically select, among the available planners installed on the system, one that is expressive enough for the problem at hand."
   ]
  },
  {
   "cell_type": "code",
   "execution_count": null,
   "metadata": {
    "id": "wuTcp_xTxvTj"
   },
   "outputs": [],
   "source": [
    "with OneshotPlanner(problem_kind=problem.kind) as planner:\n",
    "    result = planner.solve(problem)\n",
    "    print(\"%s returned: %s\" % (planner.name, result.plan))"
   ]
  },
  {
   "cell_type": "markdown",
   "metadata": {
    "id": "6KEe1f_Zx71o"
   },
   "source": [
    "In this example, Pyperplan was selected. The `problem.kind` property, returns an object that describes the characteristics of the problem."
   ]
  },
  {
   "cell_type": "code",
   "execution_count": null,
   "metadata": {
    "id": "Zmz6B_CcyABQ"
   },
   "outputs": [],
   "source": [
    "print(problem.kind.features)"
   ]
  },
  {
   "cell_type": "markdown",
   "metadata": {
    "id": "J3tblkI9yEnW"
   },
   "source": [
    "#### Beyond plan generation"
   ]
  },
  {
   "cell_type": "markdown",
   "metadata": {
    "id": "xbY7bAPByL35"
   },
   "source": [
    "`OneshotPlanner` is not the only operation mode we can invoke from the unified_planning, it is just one way to interact with a planning engine. Another useful functionality is `PlanValidation` that checks if a plan is valid for a problem."
   ]
  },
  {
   "cell_type": "code",
   "execution_count": null,
   "metadata": {
    "id": "p5s7ZwhzyPKG"
   },
   "outputs": [],
   "source": [
    "plan = result.plan\n",
    "with PlanValidator(problem_kind=problem.kind, plan_kind=plan.kind) as validator:\n",
    "    if validator.validate(problem, plan):\n",
    "        print('The plan is valid')\n",
    "    else:\n",
    "        print('The plan is invalid')"
   ]
  },
  {
   "cell_type": "markdown",
   "metadata": {
    "id": "FtY51vyASTcp"
   },
   "source": [
    "It is also possible to use the `Grounding` operation mode to create an equivalent formulation of a problem that does not use parameters for the actions. This openarion mode is implemented by an internal python code, but also some engines offer advanced grounding techniques. "
   ]
  },
  {
   "cell_type": "code",
   "execution_count": null,
   "metadata": {
    "id": "2mTQ3DlrSoRk"
   },
   "outputs": [],
   "source": [
    "with Compiler(problem_kind=problem.kind, compilation_kind=CompilationKind.GROUNDING) as grounder:\n",
    "    grounding_result = grounder.compile(problem, CompilationKind.GROUNDING)\n",
    "    ground_problem = grounding_result.problem\n",
    "    print(ground_problem)\n",
    "\n",
    "    # The grounding_result can be used to \"lift\" a ground plan back to the level of the original problem\n",
    "    with OneshotPlanner(problem_kind=ground_problem.kind) as planner:\n",
    "        ground_plan = planner.solve(ground_problem).plan\n",
    "        print('Ground plan: %s' % ground_plan)\n",
    "        # Replace the action instances of the grounded plan with their correspoding lifted version\n",
    "        lifted_plan = ground_plan.replace_action_instances(grounding_result.map_back_action_instance)\n",
    "        print('Lifted plan: %s' % lifted_plan)\n",
    "        # Test the problem and plan validity\n",
    "        with PlanValidator(problem_kind=problem.kind, plan_kind=ground_plan.kind) as validator:\n",
    "            ground_validation = validator.validate(ground_problem, ground_plan)\n",
    "            lift_validation = validator.validate(problem, lifted_plan)\n",
    "            Valid = up.engines.ValidationResultStatus.VALID\n",
    "            assert ground_validation.status == Valid\n",
    "            assert lift_validation.status == Valid"
   ]
  },
  {
   "cell_type": "markdown",
   "metadata": {
    "id": "bbVeET7FyVB3"
   },
   "source": [
    "#### Parallel planning"
   ]
  },
  {
   "cell_type": "markdown",
   "metadata": {
    "id": "16WuqVp3yX9j"
   },
   "source": [
    "We can invoke different instances of a planner in parallel or different planners and return the first plan that is generated effortlessly."
   ]
  },
  {
   "cell_type": "code",
   "execution_count": null,
   "metadata": {
    "id": "aeUm0TPZya7e"
   },
   "outputs": [],
   "source": [
    "with OneshotPlanner(names=['tamer', 'tamer', 'pyperplan'],\n",
    "                    params=[{'heuristic': 'hadd'}, {'heuristic': 'hmax'}, {}]) as planner:\n",
    "    plan = planner.solve(problem).plan\n",
    "    print(\"%s returned: %s\" % (planner.name, plan))"
   ]
  },
  {
   "cell_type": "markdown",
   "metadata": {
    "id": "qi-tOYPAyezo"
   },
   "source": [
    "### PDDL I/O"
   ]
  },
  {
   "cell_type": "markdown",
   "metadata": {
    "id": "Bb70DVgayiiX"
   },
   "source": [
    "The library allows to read and write PDDL problems effortlessly."
   ]
  },
  {
   "cell_type": "code",
   "execution_count": null,
   "metadata": {
    "id": "L7ZibzXAyk4z"
   },
   "outputs": [],
   "source": [
    "w = PDDLWriter(problem)\n",
    "print(w.get_domain())\n",
    "print(w.get_problem())"
   ]
  },
  {
   "cell_type": "code",
   "execution_count": null,
   "metadata": {
    "id": "JU2CJJgvjn6n"
   },
   "outputs": [],
   "source": [
    "!wget https://raw.githubusercontent.com/aiplan4eu/unified-planning/master/unified_planning/test/pddl/depot/domain.pddl -O /tmp/depot_domain.pddl"
   ]
  },
  {
   "cell_type": "code",
   "execution_count": null,
   "metadata": {
    "id": "lprAyCOgj9J3"
   },
   "outputs": [],
   "source": [
    "!wget https://raw.githubusercontent.com/aiplan4eu/unified-planning/master/unified_planning/test/pddl/depot/problem.pddl -O /tmp/depot_problem.pddl"
   ]
  },
  {
   "cell_type": "code",
   "execution_count": null,
   "metadata": {
    "id": "jsW0X8T9yqXI"
   },
   "outputs": [],
   "source": [
    "reader = PDDLReader()\n",
    "pddl_problem = reader.parse_problem('/tmp/depot_domain.pddl', '/tmp/depot_problem.pddl')\n",
    "print(pddl_problem)"
   ]
  },
  {
   "cell_type": "markdown",
   "metadata": {
    "id": "4x4o5D9dyoZe"
   },
   "source": [
    "A parsed PDDL problem is just a normal problem that can be solved."
   ]
  },
  {
   "cell_type": "code",
   "execution_count": null,
   "metadata": {
    "id": "P1dexnd1yvdi"
   },
   "outputs": [],
   "source": [
    "print(pddl_problem.kind.features)\n",
    "with OneshotPlanner(name='pyperplan') as planner:\n",
    "    result = planner.solve(pddl_problem)\n",
    "    print(\"%s returned: %s\" % (planner.name, result.plan))\n"
   ]
  }
 ],
 "metadata": {
  "colab": {
   "collapsed_sections": [],
   "name": "Unified_Planning_Basics.ipynb",
   "provenance": []
  },
  "kernelspec": {
   "display_name": "Python 3",
   "language": "python",
   "name": "python3"
  },
  "language_info": {
   "codemirror_mode": {
    "name": "ipython",
    "version": 3
   },
   "file_extension": ".py",
   "mimetype": "text/x-python",
   "name": "python",
   "nbconvert_exporter": "python",
   "pygments_lexer": "ipython3",
   "version": "3.8.10"
  }
 },
 "nbformat": 4,
 "nbformat_minor": 1
}
