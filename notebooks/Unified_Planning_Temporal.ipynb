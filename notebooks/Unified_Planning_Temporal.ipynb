{
 "cells": [
  {
   "cell_type": "markdown",
   "metadata": {
    "id": "vXUqFpLObzhb"
   },
   "source": [
    "#Temporal Planning using the Unified Planning framework\n",
    "\n",
    "This python notebook shows how to use the unified planning library to model temporal problems."
   ]
  },
  {
   "cell_type": "markdown",
   "metadata": {
    "id": "t8dCcpf7mivV"
   },
   "source": [
    "## Setup the library\n",
    "\n",
    "We install (from github) the unified planning library."
   ]
  },
  {
   "cell_type": "code",
   "execution_count": null,
   "metadata": {
    "id": "lk0GFcWndS8c"
   },
   "outputs": [],
   "source": [
    "# begin of installation"
   ]
  },
  {
   "cell_type": "code",
   "execution_count": null,
   "metadata": {
    "id": "BoqALxJWdfl8"
   },
   "outputs": [],
   "source": [
    "!pip install --pre unified-planning[tamer]"
   ]
  },
  {
   "cell_type": "markdown",
   "metadata": {
    "id": "iNHFHxQKnKIp"
   },
   "source": [
    "We are now ready to use the Unified-Planning library!"
   ]
  },
  {
   "cell_type": "code",
   "execution_count": null,
   "metadata": {
    "id": "9oDsGq2jdY0S"
   },
   "outputs": [],
   "source": [
    "# end of installation"
   ]
  },
  {
   "cell_type": "markdown",
   "metadata": {
    "id": "xI2BGgmvdsek"
   },
   "source": [
    "## Demo\n"
   ]
  },
  {
   "cell_type": "markdown",
   "metadata": {
    "id": "bu91rHtQ34Wh"
   },
   "source": [
    "In this demo we show how to model a temporal planning problem using the Unified Planning library.\n",
    "\n",
    "Temporal planning extends classical planning introducing durative actions, timed effects and timed goals.\n",
    "\n"
   ]
  },
  {
   "cell_type": "markdown",
   "metadata": {
    "id": "xn5l-SVxufFA"
   },
   "source": [
    "We start importing the shortcuts."
   ]
  },
  {
   "cell_type": "code",
   "execution_count": null,
   "metadata": {
    "id": "otZVSku3idJC"
   },
   "outputs": [],
   "source": [
    "from unified_planning.shortcuts import *"
   ]
  },
  {
   "cell_type": "markdown",
   "metadata": {
    "id": "M9DCTuoSu2vh"
   },
   "source": [
    "Now we start to model the MatchCellar problem.\n",
    "\n"
   ]
  },
  {
   "cell_type": "markdown",
   "metadata": {
    "id": "5iISKqwryXFT"
   },
   "source": [
    "### Creating the problem"
   ]
  },
  {
   "cell_type": "markdown",
   "metadata": {
    "id": "nBaUofy3Ko7V"
   },
   "source": [
    "#### Classical part\n",
    "\n",
    "First, we define the `UserTypes` and the `Fluents`."
   ]
  },
  {
   "cell_type": "code",
   "execution_count": null,
   "metadata": {
    "id": "e5BWi6wyuqyB"
   },
   "outputs": [],
   "source": [
    "Match = UserType('Match')\n",
    "Fuse = UserType('Fuse')\n",
    "\n",
    "handfree = Fluent('handfree')\n",
    "light = Fluent('light')\n",
    "match_used = Fluent('match_used', BoolType(), m=Match)\n",
    "fuse_mended = Fluent('fuse_mended', BoolType(), f=Fuse)"
   ]
  },
  {
   "cell_type": "markdown",
   "metadata": {
    "id": "aMMtRDVovvuM"
   },
   "source": [
    "We create a `Problem`, we add the fluents to it and we set their initial values."
   ]
  },
  {
   "cell_type": "code",
   "execution_count": null,
   "metadata": {
    "id": "vEDxcqkLvm9d"
   },
   "outputs": [],
   "source": [
    "problem = Problem('MatchCellar')\n",
    "\n",
    "problem.add_fluent(handfree)\n",
    "problem.add_fluent(light)\n",
    "problem.add_fluent(match_used, default_initial_value=False)\n",
    "problem.add_fluent(fuse_mended, default_initial_value=False)\n",
    "\n",
    "problem.set_initial_value(light, False)\n",
    "problem.set_initial_value(handfree, True)"
   ]
  },
  {
   "cell_type": "markdown",
   "metadata": {
    "id": "SIA9pRCiwEql"
   },
   "source": [
    "We create the objects and we add them to the problem."
   ]
  },
  {
   "cell_type": "code",
   "execution_count": null,
   "metadata": {
    "id": "b1Xnzzq7wOxw"
   },
   "outputs": [],
   "source": [
    "fuses = [Object(f'f{i}', Fuse) for i in range(3)]\n",
    "matches = [Object(f'm{i}', Match) for i in range(3)]\n",
    "\n",
    "problem.add_objects(fuses)\n",
    "problem.add_objects(matches)"
   ]
  },
  {
   "cell_type": "markdown",
   "metadata": {
    "id": "vidUnHLh3gOz"
   },
   "source": [
    "#### Temporal part\n",
    "\n",
    "Now we start with the temporal aspects creating two durative actions.\n",
    "\n",
    "A durative action has a duration, a set of conditions associated to an interval/timing and a set of effects associated to a timing.\n",
    "\n",
    "We define the `light_match` action setting a fixed duration and defining a condition at its start and three effects at its end."
   ]
  },
  {
   "cell_type": "code",
   "execution_count": null,
   "metadata": {
    "id": "xl8dm2fZ3gpp"
   },
   "outputs": [],
   "source": [
    "light_match = DurativeAction('light_match', m=Match)\n",
    "m = light_match.parameter('m')\n",
    "light_match.set_fixed_duration(6)\n",
    "light_match.add_condition(StartTiming(), Not(match_used(m)))\n",
    "light_match.add_effect(StartTiming(), match_used(m), True)\n",
    "light_match.add_effect(StartTiming(), light, True)\n",
    "light_match.add_effect(EndTiming(), light, False)\n",
    "problem.add_action(light_match)\n",
    "print(light_match)"
   ]
  },
  {
   "cell_type": "markdown",
   "metadata": {
    "id": "mjdfaQw537eI"
   },
   "source": [
    "Defining the `mend_fuse` action we defined also a condition over an interval."
   ]
  },
  {
   "cell_type": "code",
   "execution_count": null,
   "metadata": {
    "id": "8NFqgnnlyeAc"
   },
   "outputs": [],
   "source": [
    "mend_fuse = DurativeAction('mend_fuse', f=Fuse)\n",
    "f = mend_fuse.parameter('f')\n",
    "mend_fuse.set_fixed_duration(5)\n",
    "mend_fuse.add_condition(StartTiming(), handfree)\n",
    "mend_fuse.add_condition(ClosedTimeInterval(StartTiming(), EndTiming()), light)\n",
    "mend_fuse.add_effect(StartTiming(), handfree, False)\n",
    "mend_fuse.add_effect(EndTiming(), fuse_mended(f), True)\n",
    "mend_fuse.add_effect(EndTiming(), handfree, True)\n",
    "problem.add_action(mend_fuse)\n",
    "print(mend_fuse)"
   ]
  },
  {
   "cell_type": "markdown",
   "metadata": {
    "id": "kLDlxvwL39dh"
   },
   "source": [
    "We conclude the modeling defining three goals at the end of the execution."
   ]
  },
  {
   "cell_type": "code",
   "execution_count": null,
   "metadata": {
    "id": "S4rT6f0A3qRJ"
   },
   "outputs": [],
   "source": [
    "for f in fuses:\n",
    "  problem.add_timed_goal(EndTiming(), fuse_mended(f))\n",
    "\n",
    "print(problem)"
   ]
  },
  {
   "cell_type": "markdown",
   "metadata": {
    "id": "z3l0y9kaKMII"
   },
   "source": [
    "### Solving the problem\n",
    "\n",
    "The unified_planning can automatically select, among the available planners installed on the system, one that is able to handle the temporal features of the problem."
   ]
  },
  {
   "cell_type": "code",
   "execution_count": null,
   "metadata": {
    "id": "frcEeD-oKO2m"
   },
   "outputs": [],
   "source": [
    "with OneshotPlanner(problem_kind=problem.kind) as planner:\n",
    "    result = planner.solve(problem)\n",
    "    plan = result.plan\n",
    "    if plan is not None:\n",
    "        print(\"%s returned:\" % planner.name)\n",
    "        for start, action, duration in plan.timed_actions:\n",
    "            print(\"%s: %s [%s]\" % (float(start), action, float(duration)))\n",
    "    else:\n",
    "        print(\"No plan found.\")"
   ]
  }
 ],
 "metadata": {
  "colab": {
   "collapsed_sections": [],
   "name": "Unified_Planning_Temporal.ipynb",
   "provenance": []
  },
  "kernelspec": {
   "display_name": "Python 3",
   "language": "python",
   "name": "python3"
  },
  "language_info": {
   "codemirror_mode": {
    "name": "ipython",
    "version": 3
   },
   "file_extension": ".py",
   "mimetype": "text/x-python",
   "name": "python",
   "nbconvert_exporter": "python",
   "pygments_lexer": "ipython3",
   "version": "3.8.10"
  }
 },
 "nbformat": 4,
 "nbformat_minor": 1
}
